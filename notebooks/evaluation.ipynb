{
 "cells": [
  {
   "cell_type": "code",
   "execution_count": 1,
   "id": "819544cf",
   "metadata": {},
   "outputs": [],
   "source": [
    "import os\n",
    "os.chdir('../')"
   ]
  },
  {
   "cell_type": "code",
   "execution_count": 2,
   "id": "bb84fe15",
   "metadata": {},
   "outputs": [],
   "source": [
    "from src.name_parser import NameParser"
   ]
  },
  {
   "cell_type": "code",
   "execution_count": 3,
   "id": "c03ef8fb",
   "metadata": {},
   "outputs": [],
   "source": [
    "import re\n",
    "import pandas as pd\n",
    "import numpy as np\n",
    "\n",
    "from src.utils.make_dataset import get_XMLtree, exctract_corpus, extract_dataset\n",
    "import probablepeople as pp"
   ]
  },
  {
   "cell_type": "code",
   "execution_count": 4,
   "id": "665b91fc",
   "metadata": {},
   "outputs": [],
   "source": [
    "test_data_path = '/workdir/data/person_labeled_test.xml'\n",
    "tree = get_XMLtree(test_data_path)\n",
    "dataset, target = extract_dataset(tree)"
   ]
  },
  {
   "cell_type": "code",
   "execution_count": 5,
   "id": "64ca101e",
   "metadata": {},
   "outputs": [],
   "source": [
    "def evaluate_parser(dataset, target, p):\n",
    "    errors = 0\n",
    "    for i, dp in enumerate(dataset):\n",
    "        string = ' '.join(dp)\n",
    "        tagget_str = p.tag(string)\n",
    "        if type(tagget_str) == tuple:\n",
    "            tagget_str = list(zip(tagget_str[0].keys(), tagget_str[0].values()))\n",
    "        predictions = [x[0] for x in tagget_str]\n",
    "        if predictions != target[i]:\n",
    "            errors += 1\n",
    "            print('True: ')\n",
    "            print(list(zip(target[i], dp)))\n",
    "            print('Predicted: ')\n",
    "            print(tagget_str)\n",
    "            \n",
    "    print(f\"ACCURACY: {(len(dataset)-errors)/len(dataset)}, {errors} mistakes out of {len(dataset)}\")"
   ]
  },
  {
   "cell_type": "code",
   "execution_count": 6,
   "id": "8006d64f",
   "metadata": {},
   "outputs": [
    {
     "name": "stdout",
     "output_type": "stream",
     "text": [
      "True: \n",
      "[('Surname', 'HOOPER'), ('SuffixGenerational', 'SR,'), ('GivenName', 'BARRON')]\n",
      "Predicted: \n",
      "[('GivenName', 'HOOPER'), ('SuffixGenerational', 'SR,'), ('GivenName', 'BARRON')]\n",
      "True: \n",
      "[('Surname', 'RAMIREZ,'), ('GivenName', 'PATRICIA'), ('MiddleInitial', 'M')]\n",
      "Predicted: \n",
      "[('Surname', 'RAMIREZ,'), ('GivenName', 'PATRICIA'), ('LastInitial', 'M')]\n",
      "True: \n",
      "[('Surname', 'RODRIGUEZ'), ('SuffixGenerational', 'JR,'), ('GivenName', 'FRANCISCO')]\n",
      "Predicted: \n",
      "[('GivenName', 'RODRIGUEZ'), ('SuffixGenerational', 'JR,'), ('GivenName', 'FRANCISCO')]\n",
      "ACCURACY: 0.9347826086956522, 3 mistakes out of 46\n"
     ]
    }
   ],
   "source": [
    "evaluate_parser(dataset, target, NameParser())"
   ]
  },
  {
   "cell_type": "code",
   "execution_count": 7,
   "id": "d5ce2200",
   "metadata": {},
   "outputs": [
    {
     "name": "stdout",
     "output_type": "stream",
     "text": [
      "True: \n",
      "[('GivenName', 'Shaquille'), ('Nickname', '\"Big'), ('Nickname', 'Aristotle\"'), ('Surname', \"O'Neal\")]\n",
      "Predicted: \n",
      "[('GivenName', 'Shaquille'), ('Nickname', '\"Big Aristotle\"'), ('Surname', \"O'Neal\")]\n",
      "True: \n",
      "[('Surname', 'MC'), ('Surname', 'NICHOLAS,'), ('GivenName', 'DANIEL'), ('MiddleInitial', 'D')]\n",
      "Predicted: \n",
      "[('Surname', 'MC NICHOLAS'), ('GivenName', 'DANIEL'), ('MiddleInitial', 'D')]\n",
      "True: \n",
      "[('Surname', 'O'), ('Surname', 'BOYLE,'), ('GivenName', 'ROBERT'), ('MiddleInitial', 'L')]\n",
      "Predicted: \n",
      "[('Surname', 'O BOYLE'), ('GivenName', 'ROBERT'), ('MiddleInitial', 'L')]\n",
      "True: \n",
      "[('GivenName', 'Ben'), ('Nickname', '\"Big'), ('Nickname', 'Ben\"'), ('Surname', 'Wallace')]\n",
      "Predicted: \n",
      "[('GivenName', 'Ben'), ('Nickname', '\"Big Ben\"'), ('Surname', 'Wallace')]\n",
      "True: \n",
      "[('Surname', 'MC'), ('Surname', 'GLYNN,'), ('GivenName', 'ANDREW'), ('MiddleInitial', 'J')]\n",
      "Predicted: \n",
      "[('Surname', 'MC GLYNN'), ('GivenName', 'ANDREW'), ('MiddleInitial', 'J')]\n",
      "True: \n",
      "[('GivenName', 'Allen'), ('Nickname', '\"The'), ('Nickname', 'Answer\"'), ('Surname', 'Iverson')]\n",
      "Predicted: \n",
      "[('GivenName', 'Allen'), ('Nickname', '\"The Answer\"'), ('Surname', 'Iverson')]\n",
      "True: \n",
      "[('GivenName', 'Kevin'), ('MiddleInitial', 'R.'), ('MiddleInitial', 'B.'), ('Surname', 'Butler')]\n",
      "Predicted: \n",
      "[('GivenName', 'Kevin'), ('MiddleInitial', 'R. B.'), ('Surname', 'Butler')]\n",
      "True: \n",
      "[('Surname', 'HEINRICH'), ('Surname', 'HOWARD,'), ('GivenName', 'JOSEPH'), ('MiddleInitial', 'W')]\n",
      "Predicted: \n",
      "[('Surname', 'HEINRICH HOWARD'), ('GivenName', 'JOSEPH'), ('MiddleInitial', 'W')]\n",
      "True: \n",
      "[('GivenName', 'CINDY'), ('Surname', 'MAC'), ('Surname', 'KENDRICK')]\n",
      "Predicted: \n",
      "[('GivenName', 'CINDY'), ('Surname', 'MAC KENDRICK')]\n",
      "True: \n",
      "[('GivenName', 'RICHARD'), ('Surname', 'MAC'), ('Surname', 'PHERSON')]\n",
      "Predicted: \n",
      "[('GivenName', 'RICHARD'), ('Surname', 'MAC PHERSON')]\n",
      "ACCURACY: 0.782608695652174, 10 mistakes out of 46\n"
     ]
    }
   ],
   "source": [
    "evaluate_parser(dataset, target, pp)"
   ]
  },
  {
   "cell_type": "code",
   "execution_count": 8,
   "id": "eb2d5eaf",
   "metadata": {},
   "outputs": [],
   "source": [
    "SOME_RESEARCH = ['Heorhii Vdovychenko', \n",
    "                 'Vdovychenko Heorhii', \n",
    "                 'Vdovychenko, Heorhii', \n",
    "                 'Heorhii, Vdovychenko',\n",
    "                 'John Bonzo Bonham',\n",
    "                 'John \"Bonzo\" Bonham',\n",
    "                 'Slash',\n",
    "                 'Cheng Long',\n",
    "                 'Li Lianjie',\n",
    "                 'Ma Yun',\n",
    "                 'Rajesh Khanna',\n",
    "                 'Khanna Rajesh'\n",
    "                  ]"
   ]
  },
  {
   "cell_type": "code",
   "execution_count": 9,
   "id": "5fc4f17e",
   "metadata": {},
   "outputs": [
    {
     "name": "stdout",
     "output_type": "stream",
     "text": [
      "Initial string: Heorhii Vdovychenko\n",
      "[('GivenName', 'Heorhii'), ('Surname', 'Vdovychenko')]\n",
      "OrderedDict([('CorporationName', 'Heorhii Vdovychenko')])\n",
      "\n",
      "Initial string: Vdovychenko Heorhii\n",
      "[('Surname', 'Vdovychenko'), ('Surname', 'Heorhii')]\n",
      "OrderedDict([('CorporationName', 'Vdovychenko Heorhii')])\n",
      "\n",
      "Initial string: Vdovychenko, Heorhii\n",
      "[('Surname', 'Vdovychenko,'), ('GivenName', 'Heorhii')]\n",
      "OrderedDict([('CorporationName', 'Vdovychenko, Heorhii')])\n",
      "\n",
      "Initial string: Heorhii, Vdovychenko\n",
      "[('Surname', 'Heorhii,'), ('GivenName', 'Vdovychenko')]\n",
      "OrderedDict([('CorporationName', 'Heorhii, Vdovychenko')])\n",
      "\n",
      "Initial string: John Bonzo Bonham\n",
      "[('GivenName', 'John'), ('MiddleName', 'Bonzo'), ('Surname', 'Bonham')]\n",
      "OrderedDict([('GivenName', 'John'), ('MiddleName', 'Bonzo'), ('Surname', 'Bonham')])\n",
      "\n",
      "Initial string: John \"Bonzo\" Bonham\n",
      "[('GivenName', 'John'), ('Nickname', '\"Bonzo\"'), ('Surname', 'Bonham')]\n",
      "OrderedDict([('GivenName', 'John'), ('Nickname', '\"Bonzo\"'), ('Surname', 'Bonham')])\n",
      "\n",
      "Initial string: Slash\n",
      "[('GivenName', 'Slash')]\n",
      "OrderedDict([('Surname', 'Slash')])\n",
      "\n",
      "Initial string: Cheng Long\n",
      "[('GivenName', 'Cheng'), ('Surname', 'Long')]\n",
      "OrderedDict([('GivenName', 'Cheng'), ('Surname', 'Long')])\n",
      "\n",
      "Initial string: Li Lianjie\n",
      "[('GivenName', 'Li'), ('Surname', 'Lianjie')]\n",
      "OrderedDict([('GivenName', 'Li'), ('Surname', 'Lianjie')])\n",
      "\n",
      "Initial string: Ma Yun\n",
      "[('GivenName', 'Ma'), ('Surname', 'Yun')]\n",
      "OrderedDict([('GivenName', 'Ma'), ('Surname', 'Yun')])\n",
      "\n",
      "Initial string: Rajesh Khanna\n",
      "[('GivenName', 'Rajesh'), ('Surname', 'Khanna')]\n",
      "OrderedDict([('GivenName', 'Rajesh'), ('Surname', 'Khanna')])\n",
      "\n",
      "Initial string: Khanna Rajesh\n",
      "[('GivenName', 'Khanna'), ('Surname', 'Rajesh')]\n",
      "OrderedDict([('GivenName', 'Khanna'), ('Surname', 'Rajesh')])\n",
      "\n"
     ]
    }
   ],
   "source": [
    "for name in SOME_RESEARCH:\n",
    "    print(f'Initial string: {name}')\n",
    "    print(NameParser().tag(name))\n",
    "    print(pp.tag(name)[0])\n",
    "    print('')"
   ]
  }
 ],
 "metadata": {
  "kernelspec": {
   "display_name": "Python 3",
   "language": "python",
   "name": "python3"
  },
  "language_info": {
   "codemirror_mode": {
    "name": "ipython",
    "version": 3
   },
   "file_extension": ".py",
   "mimetype": "text/x-python",
   "name": "python",
   "nbconvert_exporter": "python",
   "pygments_lexer": "ipython3",
   "version": "3.6.9"
  }
 },
 "nbformat": 4,
 "nbformat_minor": 5
}
